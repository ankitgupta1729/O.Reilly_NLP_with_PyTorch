{
 "cells": [
  {
   "cell_type": "markdown",
   "id": "ca1107c6",
   "metadata": {},
   "source": [
    "Household names like Echo (Alexa), Siri, and Google Translate have at least one thing in common.\n",
    "They are all products derived from the application of natural language processing (NLP), one of the\n",
    "two main subject matters of this book. NLP refers to a set of techniques involving the application of\n",
    "statistical methods, with or without insights from linguistics, to understand text for the sake of solving\n",
    "real-world tasks. This “understanding” of text is mainly derived by transforming texts to useable\n",
    "computational representations, which are discrete or continuous combinatorial structures such as\n",
    "vectors or tensors, graphs, and trees."
   ]
  },
  {
   "cell_type": "markdown",
   "id": "f3de64d2",
   "metadata": {},
   "source": [
    "deep learning enables one to efficiently learn representations from data using an\n",
    "abstraction called the computational graph and numerical optimization techniques"
   ]
  },
  {
   "cell_type": "markdown",
   "id": "d1de55c8",
   "metadata": {},
   "source": [
    "Such is the success\n",
    "of deep learning and computational graphs that major tech companies such as Google, Facebook, and\n",
    "Amazon have published implementations of computational graph frameworks and libraries built on\n",
    "them to capture the mindshare of researchers and engineers. In this book, we consider PyTorch, an\n",
    "increasingly popular Python-based computational graph framework to implement deep learning\n",
    "algorithms"
   ]
  },
  {
   "cell_type": "markdown",
   "id": "566b2505",
   "metadata": {},
   "source": [
    "## One-Hot Representation"
   ]
  },
  {
   "cell_type": "markdown",
   "id": "b1381023",
   "metadata": {},
   "source": [
    "The one-hot representation, as the name suggests, starts with a zero vector, and sets as 1 the\n",
    "corresponding entry in the vector if the word is present in the sentence or document. Consider the\n",
    "following two sentences"
   ]
  },
  {
   "cell_type": "markdown",
   "id": "9a277f5c",
   "metadata": {},
   "source": [
    "Time flies like an arrow.     \n",
    "     \n",
    "Fruit flies like a banana."
   ]
  },
  {
   "cell_type": "markdown",
   "id": "09c5bc37",
   "metadata": {},
   "source": [
    "Tokenizing the sentences, ignoring punctuation, and treating everything as lowercase, will yield a\n",
    "vocabulary of size 8: {time, fruit, flies, like, a, an, arrow, banana}. So, we\n",
    "can represent each word with an eight-dimensional one-hot vector. In this book, we use 1_w to mean\n",
    "one-hot representation for a token/word w"
   ]
  },
  {
   "cell_type": "markdown",
   "id": "709b91a6",
   "metadata": {},
   "source": [
    "The collapsed one-hot representation for a phrase, sentence, or a document is simply a logical OR of\n",
    "the one-hot representations of its constituent words. Using the encoding shown in\n",
    "Figure 1-3, the onehot representation for the phrase “like a banana” will be a 3×8 matrix, where the columns are the\n",
    "eight-dimensional one-hot vectors. It is also common to see a “collapsed” or a binary encoding where\n",
    "the text/phrase is represented by a vector the length of the vocabulary, with 0s and 1s to indicate\n",
    "absence or presence of a word. The binary encoding for “like a banana” would then be: [0, 0, 0,\n",
    "1, 1, 0, 0, 1]."
   ]
  },
  {
   "cell_type": "markdown",
   "id": "7c87db79",
   "metadata": {},
   "source": [
    "## TF Representation"
   ]
  },
  {
   "cell_type": "markdown",
   "id": "6e46215b",
   "metadata": {},
   "source": [
    "The TF representation of a phrase, sentence, or document is simply the sum of the one-hot\n",
    "representations of its constituent words. To continue with our silly examples, using the aforementioned\n",
    "one-hot encoding, the sentence “Fruit flies like time flies a fruit” has the following TF representation:\n",
    "[1, 2, 2, 1, 1, 0, 0, 0]. Notice that each entry is a count of the number of times the\n",
    "corresponding word appears in the sentence (corpus). We denote the TF of a word w by TF(w)."
   ]
  },
  {
   "cell_type": "code",
   "execution_count": null,
   "id": "51d14113",
   "metadata": {},
   "outputs": [],
   "source": [
    "# Example 1.1. Generating a “collapsed” one-hot or binary representation using scikit-learn"
   ]
  },
  {
   "cell_type": "code",
   "execution_count": 45,
   "id": "c45c13d3",
   "metadata": {},
   "outputs": [
    {
     "data": {
      "text/plain": [
       "CountVectorizer(binary=True)"
      ]
     },
     "execution_count": 45,
     "metadata": {},
     "output_type": "execute_result"
    }
   ],
   "source": [
    "from sklearn.feature_extraction.text import CountVectorizer\n",
    "import seaborn as sns\n",
    "#vocab= {'time', 'fruit', 'flies', 'like', 'a', 'an', 'arrow', 'banana'} \n",
    "corpus=['time flies like an arrow.',\n",
    "        'fruit flies like a banana.']\n",
    "one_hot_vectorizer = CountVectorizer(binary=True)\n",
    "one_hot_vectorizer.fit(corpus)"
   ]
  },
  {
   "cell_type": "code",
   "execution_count": 46,
   "id": "514dddbb",
   "metadata": {},
   "outputs": [
    {
     "data": {
      "text/plain": [
       "{'time': 6,\n",
       " 'flies': 3,\n",
       " 'like': 5,\n",
       " 'an': 0,\n",
       " 'arrow': 1,\n",
       " 'fruit': 4,\n",
       " 'banana': 2}"
      ]
     },
     "execution_count": 46,
     "metadata": {},
     "output_type": "execute_result"
    }
   ],
   "source": [
    "one_hot_vectorizer.vocabulary_"
   ]
  },
  {
   "cell_type": "markdown",
   "id": "e5ddb986",
   "metadata": {},
   "source": [
    "## why 'a' is not considered ?"
   ]
  },
  {
   "cell_type": "code",
   "execution_count": 47,
   "id": "dc49275e",
   "metadata": {},
   "outputs": [
    {
     "data": {
      "text/plain": [
       "['an', 'arrow', 'banana', 'flies', 'fruit', 'like', 'time']"
      ]
     },
     "execution_count": 47,
     "metadata": {},
     "output_type": "execute_result"
    }
   ],
   "source": [
    "one_hot_vectorizer.get_feature_names()"
   ]
  },
  {
   "cell_type": "code",
   "execution_count": 48,
   "id": "8c46c868",
   "metadata": {},
   "outputs": [],
   "source": [
    "one_hot = one_hot_vectorizer.fit_transform(corpus).toarray()"
   ]
  },
  {
   "cell_type": "code",
   "execution_count": 49,
   "id": "0f465c6d",
   "metadata": {},
   "outputs": [
    {
     "data": {
      "text/plain": [
       "array([[1, 1, 0, 1, 0, 1, 1],\n",
       "       [0, 0, 1, 1, 1, 1, 0]], dtype=int64)"
      ]
     },
     "execution_count": 49,
     "metadata": {},
     "output_type": "execute_result"
    }
   ],
   "source": [
    "one_hot"
   ]
  },
  {
   "cell_type": "code",
   "execution_count": 50,
   "id": "3c877b5e",
   "metadata": {},
   "outputs": [
    {
     "data": {
      "text/plain": [
       "<AxesSubplot:>"
      ]
     },
     "execution_count": 50,
     "metadata": {},
     "output_type": "execute_result"
    },
    {
     "data": {
      "image/png": "[encoded data removed]",
      "text/plain": [
       "<Figure size 432x288 with 1 Axes>"
      ]
     },
     "metadata": {
      "needs_background": "light"
     },
     "output_type": "display_data"
    }
   ],
   "source": [
    "sns.heatmap(one_hot,annot=True,cbar=False,xticklabels=one_hot_vectorizer.get_feature_names(),yticklabels=['Sentence 1','Sentence 2'])"
   ]
  },
  {
   "cell_type": "markdown",
   "id": "cb442efb",
   "metadata": {},
   "source": [
    "## TF-IDF Representation"
   ]
  },
  {
   "cell_type": "markdown",
   "id": "99374080",
   "metadata": {},
   "source": [
    "Consider a collection of patent documents. You would expect most of them to contain words like\n",
    "claim, system, method, procedure, and so on, often repeated multiple times. The TF representation\n",
    "weights words proportionally to their frequency. However, common words such as “claim” do not add\n",
    "anything to our understanding of a specific patent. Conversely, if a rare word (such as\n",
    "“tetrafluoroethylene”) occurs less frequently but is quite likely to be indicative of the nature of the\n",
    "patent document, we would want to give it a larger weight in our representation. The InverseDocument-Frequency (IDF) is a heuristic to do exactly that.\n"
   ]
  },
  {
   "cell_type": "markdown",
   "id": "567cc93d",
   "metadata": {},
   "source": [
    "The IDF representation penalizes common tokens and rewards rare tokens in the vector representation.\n",
    "The IDF(w) of a token w is defined with respect to a corpus as:\n"
   ]
  },
  {
   "cell_type": "markdown",
   "id": "01d892b0",
   "metadata": {},
   "source": [
    "$IDF (w) = \\log(N/n_w)$"
   ]
  },
  {
   "cell_type": "markdown",
   "id": "28fe4c20",
   "metadata": {},
   "source": [
    "where n is the number of documents containing the word w and N is the total number of documents.\n",
    "The TF-IDF score is simply the product TF(w) * IDF(w). "
   ]
  },
  {
   "cell_type": "markdown",
   "id": "5352f72d",
   "metadata": {},
   "source": [
    "First, notice how if there is a very common\n",
    "word that occurs in all documents (i.e., n = N), IDF(w) is 0 and the TF-IDF score is 0, thereby\n",
    "completely penalizing that term. Second, if a term occurs very rarely, perhaps in only one document,\n",
    "the IDF will be the maximum possible value, log N."
   ]
  },
  {
   "cell_type": "code",
   "execution_count": 8,
   "id": "354db2f0",
   "metadata": {},
   "outputs": [
    {
     "data": {
      "text/plain": [
       "<AxesSubplot:>"
      ]
     },
     "execution_count": 8,
     "metadata": {},
     "output_type": "execute_result"
    },
    {
     "data": {
      "image/png": "[encoded data removed]",
      "text/plain": [
       "<Figure size 432x288 with 1 Axes>"
      ]
     },
     "metadata": {
      "needs_background": "light"
     },
     "output_type": "display_data"
    }
   ],
   "source": [
    "from sklearn.feature_extraction.text import TfidfVectorizer\n",
    "import seaborn as sns\n",
    "corpus=['time flies like an arrow.',\n",
    "        'fruit flies like a banana.']\n",
    "tfidf_vectorizer = TfidfVectorizer()\n",
    "tfidf = tfidf_vectorizer.fit_transform(corpus).toarray()\n",
    "sns.heatmap(tfidf, annot=True, cbar=False, xticklabels=tfidf_vectorizer.get_feature_names(),yticklabels= ['Sentence 1', 'Sentence 2'])"
   ]
  },
  {
   "cell_type": "markdown",
   "id": "cd8754c7",
   "metadata": {},
   "source": [
    "In deep learning, it is rare to see inputs encoded using heuristic representations like TF-IDF because\n",
    "the goal is to learn a representation. Often, we start with a one-hot encoding using integer indices and\n",
    "a special “embedding lookup” layer to construct inputs to the neural network."
   ]
  },
  {
   "cell_type": "markdown",
   "id": "518cdbd5",
   "metadata": {},
   "source": [
    "## Target Encoding\n"
   ]
  },
  {
   "cell_type": "markdown",
   "id": "dd6daed9",
   "metadata": {},
   "source": [
    "As noted in the\n",
    "“The Supervised Learning Paradigm”, the exact nature of the target variable can\n",
    "depend on the NLP task being solved. For example, in cases of machine translation, summarization,\n",
    "and question answering, the target is also text and is encoded using approaches such as the previously\n",
    "described one-hot encoding"
   ]
  },
  {
   "cell_type": "markdown",
   "id": "13e28aa4",
   "metadata": {},
   "source": [
    "Many NLP tasks actually use categorical labels, wherein the model must predict one of a fixed set of\n",
    "labels. A common way to encode this is to use a unique index per label, but this simple representation\n",
    "can become problematic when the number of output labels is simply too large. An example of this is\n",
    "the language modeling problem, in which the task is to predict the next word, given the words seen in\n",
    "the past. The label space is the entire vocabulary of a language, which can easily grow to several\n",
    "hundred thousand, including special characters, names, and so on. We revisit this problem in later\n",
    "chapters and see how to address it"
   ]
  },
  {
   "cell_type": "markdown",
   "id": "aee569dd",
   "metadata": {},
   "source": [
    "Some NLP problems involve predicting a numerical value from a given text. For example, given an\n",
    "English essay, we might need to assign a numeric grade or a readability score. Given a restaurant\n",
    "review snippet, we might need to predict a numerical star rating up to the first decimal. Given a user’s\n",
    "tweets, we might be required to predict the user’s age group. Several approaches exist to encode\n",
    "numerical targets, but simply placing the targets into categorical “bins”—for example, “0-18,” “19-\n",
    "25,” “25-30,” and so on—and treating it as an ordinal classification problem is a reasonable approach.\n",
    "The binning can be uniform or nonuniform and data-driven. "
   ]
  },
  {
   "cell_type": "markdown",
   "id": "8306d7ab",
   "metadata": {},
   "source": [
    "## Computational Graphs"
   ]
  },
  {
   "cell_type": "markdown",
   "id": "c911c279",
   "metadata": {},
   "source": [
    "Technically, a computational graph is an abstraction that models mathematical expressions. In the\n",
    "context of deep learning, the implementations of the computational graph (such as Theano,\n",
    "TensorFlow, and PyTorch) do additional bookkeeping to implement automatic differentiation needed\n",
    "to obtain gradients of parameters during training in the supervised learning paradigm. We explore this\n",
    "further in\n",
    "“PyTorch Basics”. Inference (or prediction) is simply expression evaluation (a forward flow\n",
    "on a computational graph). Let’s see how the computational graph models expressions. Consider the\n",
    "expression:"
   ]
  },
  {
   "cell_type": "markdown",
   "id": "a0ceeec4",
   "metadata": {},
   "source": [
    "y = wx + b"
   ]
  },
  {
   "cell_type": "markdown",
   "id": "c3f10172",
   "metadata": {},
   "source": [
    "This can be written as two subexpressions, z = wx and y = z + b. We can then represent the original\n",
    "expression using a directed acyclic graph (DAG) in which the nodes are the mathematical operations,\n",
    "like multiplication and addition. The inputs to the operations are the incoming edges to the nodes and\n",
    "the output of each operation is the outgoing edge. So, for the expression y = wx + b, the computational\n",
    "graph is as illustrated as:"
   ]
  },
  {
   "attachments": {
    "Capture.PNG": {
     "image/png": "[encoded data removed]"
    }
   },
   "cell_type": "markdown",
   "id": "19f2417e",
   "metadata": {},
   "source": [
    "![Capture.PNG](attachment:Capture.PNG)"
   ]
  },
  {
   "cell_type": "markdown",
   "id": "0ead5fcf",
   "metadata": {},
   "source": [
    "## PyTorch Basics"
   ]
  },
  {
   "cell_type": "markdown",
   "id": "fa47bc0f",
   "metadata": {},
   "source": [
    "In this book, we extensively use PyTorch for implementing our deep learning models. PyTorch is an\n",
    "open source, community-driven deep learning framework. Unlike Theano, Caffe, and TensorFlow,\n",
    "PyTorch implements a tape-based\n",
    "automatic differentiation method that allows us to define and\n",
    "execute computational graphs dynamically. This is extremely helpful for debugging and also for\n",
    "constructing sophisticated models with minimal effort."
   ]
  },
  {
   "cell_type": "markdown",
   "id": "dd9372cd",
   "metadata": {},
   "source": [
    "**DYNAMIC VERSUS STATIC COMPUTATIONAL GRAPHS**\n"
   ]
  },
  {
   "cell_type": "markdown",
   "id": "b4832a63",
   "metadata": {},
   "source": [
    "Static frameworks like Theano, Caffe, and TensorFlow require the computational graph to be first\n",
    "declared, compiled, and then executed. Although this leads to extremely efficient\n",
    "implementations (useful in production and mobile settings), it can become quite cumbersome\n",
    "during research and development. Modern frameworks like Chainer, DyNet, and PyTorch\n",
    "implement dynamic computational graphs to allow for a more flexible, imperative style of\n",
    "development, without needing to compile the models before every execution. Dynamic\n",
    "computational graphs are especially useful in modeling NLP tasks for which each input could\n",
    "potentially result in a different graph structure.\n"
   ]
  },
  {
   "cell_type": "markdown",
   "id": "67caaa51",
   "metadata": {},
   "source": [
    "PyTorch is an optimized tensor manipulation library that offers an array of packages for deep learning.\n",
    "At the core of the library is the tensor, which is a mathematical object holding some multidimensional\n",
    "data. A tensor of order zero is just a number, or a scalar. A tensor of order one (1st-order tensor) is an\n",
    "array of numbers, or a vector. Similarly, a 2nd-order tensor is an array of vectors, or a matrix."
   ]
  },
  {
   "cell_type": "markdown",
   "id": "47001070",
   "metadata": {},
   "source": [
    "Therefore, a tensor can be generalized as an n­dimensional array of scalars"
   ]
  },
  {
   "cell_type": "markdown",
   "id": "93a421de",
   "metadata": {},
   "source": [
    "## Creating Tensors"
   ]
  },
  {
   "cell_type": "markdown",
   "id": "82080a91",
   "metadata": {},
   "source": [
    "First, we define a helper function, describe(x), that will summarize various properties of a tensor\n",
    "x, such as the type of the tensor, the dimensions of the tensor, and the contents of the tensor:"
   ]
  },
  {
   "cell_type": "code",
   "execution_count": 10,
   "id": "91b2a435",
   "metadata": {},
   "outputs": [],
   "source": [
    "def describe(x):\n",
    "    print(\"Type: {}\".format(x.type()))\n",
    "    print(\"Shape/size: {}\".format(x.shape))\n",
    "    print(\"Values: \\n{}\".format(x))"
   ]
  },
  {
   "cell_type": "markdown",
   "id": "b355590b",
   "metadata": {},
   "source": [
    "PyTorch allows us to create tensors in many different ways using the torch package. One way to\n",
    "create a tensor is to initialize a random one by specifying its dimensions."
   ]
  },
  {
   "cell_type": "code",
   "execution_count": 14,
   "id": "3ac9db3e",
   "metadata": {},
   "outputs": [
    {
     "name": "stdout",
     "output_type": "stream",
     "text": [
      "Type: torch.FloatTensor\n",
      "Shape/size: torch.Size([2, 3])\n",
      "Values: \n",
      "tensor([[1.3732e-05, 1.0368e-11, 3.4156e-06],\n",
      "        [1.3444e+22, 1.3165e-08, 1.6132e-07]])\n"
     ]
    }
   ],
   "source": [
    "import torch\n",
    "describe(torch.Tensor(2, 3)) # keep running this cell, you will get different arbitrary values"
   ]
  },
  {
   "cell_type": "markdown",
   "id": "9b562d4c",
   "metadata": {},
   "source": [
    "We can also create a tensor by randomly initializing it with values from a uniform distribution on the\n",
    "interval [0, 1) or the standard normal distribution"
   ]
  },
  {
   "cell_type": "code",
   "execution_count": 15,
   "id": "963bb122",
   "metadata": {},
   "outputs": [
    {
     "name": "stdout",
     "output_type": "stream",
     "text": [
      "Type: torch.FloatTensor\n",
      "Shape/size: torch.Size([2, 3])\n",
      "Values: \n",
      "tensor([[0.9580, 0.6161, 0.4286],\n",
      "        [0.7877, 0.9599, 0.5440]])\n",
      "Type: torch.FloatTensor\n",
      "Shape/size: torch.Size([2, 3])\n",
      "Values: \n",
      "tensor([[ 0.3220,  0.0576,  1.3547],\n",
      "        [-0.3357, -0.7617, -2.8294]])\n"
     ]
    }
   ],
   "source": [
    "import torch\n",
    "describe(torch.rand(2, 3)) # uniform random\n",
    "describe(torch.randn(2, 3)) # random normal"
   ]
  },
  {
   "cell_type": "markdown",
   "id": "0ed69501",
   "metadata": {},
   "source": [
    "We can also create tensors all filled with the same scalar. For creating a tensor of zeros or ones, we\n",
    "have built-in functions, and for filling it with specific values, we can use the fill_() method. Any\n",
    "PyTorch method with an underscore (_) refers to an in-place operation; that is, it modifies the\n",
    "content in place without creating a new object."
   ]
  },
  {
   "cell_type": "code",
   "execution_count": 16,
   "id": "3266672b",
   "metadata": {},
   "outputs": [
    {
     "name": "stdout",
     "output_type": "stream",
     "text": [
      "Type: torch.FloatTensor\n",
      "Shape/size: torch.Size([2, 3])\n",
      "Values: \n",
      "tensor([[0., 0., 0.],\n",
      "        [0., 0., 0.]])\n",
      "Type: torch.FloatTensor\n",
      "Shape/size: torch.Size([2, 3])\n",
      "Values: \n",
      "tensor([[1., 1., 1.],\n",
      "        [1., 1., 1.]])\n",
      "Type: torch.FloatTensor\n",
      "Shape/size: torch.Size([2, 3])\n",
      "Values: \n",
      "tensor([[5., 5., 5.],\n",
      "        [5., 5., 5.]])\n"
     ]
    }
   ],
   "source": [
    "import torch\n",
    "describe(torch.zeros(2, 3))\n",
    "x = torch.ones(2, 3)\n",
    "describe(x)\n",
    "x.fill_(5)\n",
    "describe(x)"
   ]
  },
  {
   "cell_type": "markdown",
   "id": "555fab61",
   "metadata": {},
   "source": [
    "**Creating and initializing a tensor from lists**"
   ]
  },
  {
   "cell_type": "code",
   "execution_count": 17,
   "id": "662484fc",
   "metadata": {},
   "outputs": [
    {
     "name": "stdout",
     "output_type": "stream",
     "text": [
      "Type: torch.FloatTensor\n",
      "Shape/size: torch.Size([2, 3])\n",
      "Values: \n",
      "tensor([[1., 2., 3.],\n",
      "        [4., 5., 6.]])\n"
     ]
    }
   ],
   "source": [
    "x = torch.Tensor([[1, 2, 3],[4, 5, 6]])\n",
    "describe(x)"
   ]
  },
  {
   "cell_type": "markdown",
   "id": "ed1bd0d3",
   "metadata": {},
   "source": [
    "The values can either come from a list, as in the preceding example, or from a NumPy array. And, of\n",
    "course, we can always go from a PyTorch tensor to a NumPy array, as well. Notice that the type of the\n",
    "tensor is DoubleTensor instead of the default FloatTensor (see the next section). This\n",
    "corresponds with the data type of the NumPy random matrix, a float64."
   ]
  },
  {
   "cell_type": "code",
   "execution_count": 18,
   "id": "ae4c8839",
   "metadata": {},
   "outputs": [
    {
     "name": "stdout",
     "output_type": "stream",
     "text": [
      "Type: torch.DoubleTensor\n",
      "Shape/size: torch.Size([2, 3])\n",
      "Values: \n",
      "tensor([[0.8808, 0.4192, 0.0089],\n",
      "        [0.6470, 0.0531, 0.0839]], dtype=torch.float64)\n"
     ]
    }
   ],
   "source": [
    "import torch\n",
    "import numpy as np\n",
    "npy = np.random.rand(2, 3)\n",
    "describe(torch.from_numpy(npy))"
   ]
  },
  {
   "cell_type": "markdown",
   "id": "62c834df",
   "metadata": {},
   "source": [
    "The ability to convert between NumPy arrays and PyTorch tensors becomes important when working\n",
    "with legacy libraries that use NumPy-formatted numerical values.\n"
   ]
  },
  {
   "cell_type": "markdown",
   "id": "09f9b8e0",
   "metadata": {},
   "source": [
    "## Tensor Types and Size"
   ]
  },
  {
   "cell_type": "markdown",
   "id": "f8c1908b",
   "metadata": {},
   "source": [
    "Each tensor has an associated type and size. The default tensor type when you use the\n",
    "torch.Tensor constructor is torch.FloatTensor. However, you can convert a tensor to a\n",
    "different type (float, long, double, etc.) by specifying it at initialization or later using one of the\n",
    "typecasting methods. There are two ways to specify the initialization type: either by directly calling\n",
    "the constructor of a specific tensor type, such as FloatTensor or LongTensor, or using a special\n",
    "method, torch.tensor(), and providing the dtype."
   ]
  },
  {
   "cell_type": "code",
   "execution_count": 20,
   "id": "0f742746",
   "metadata": {},
   "outputs": [
    {
     "name": "stdout",
     "output_type": "stream",
     "text": [
      "Type: torch.FloatTensor\n",
      "Shape/size: torch.Size([2, 3])\n",
      "Values: \n",
      "tensor([[1., 2., 3.],\n",
      "        [4., 5., 6.]])\n"
     ]
    }
   ],
   "source": [
    "x = torch.FloatTensor([[1, 2, 3],[4, 5, 6]])\n",
    "describe(x)"
   ]
  },
  {
   "cell_type": "code",
   "execution_count": 21,
   "id": "c9d23a91",
   "metadata": {},
   "outputs": [
    {
     "name": "stdout",
     "output_type": "stream",
     "text": [
      "Type: torch.LongTensor\n",
      "Shape/size: torch.Size([2, 3])\n",
      "Values: \n",
      "tensor([[1, 2, 3],\n",
      "        [4, 5, 6]])\n"
     ]
    }
   ],
   "source": [
    "x = x.long()\n",
    "describe(x)"
   ]
  },
  {
   "cell_type": "code",
   "execution_count": 22,
   "id": "426cef47",
   "metadata": {},
   "outputs": [
    {
     "name": "stdout",
     "output_type": "stream",
     "text": [
      "Type: torch.LongTensor\n",
      "Shape/size: torch.Size([2, 3])\n",
      "Values: \n",
      "tensor([[1, 2, 3],\n",
      "        [4, 5, 6]])\n"
     ]
    }
   ],
   "source": [
    "x = torch.tensor([[1, 2, 3],[4, 5, 6]], dtype=torch.int64)\n",
    "describe(x)"
   ]
  },
  {
   "cell_type": "code",
   "execution_count": 23,
   "id": "5ab8342a",
   "metadata": {},
   "outputs": [
    {
     "name": "stdout",
     "output_type": "stream",
     "text": [
      "Type: torch.FloatTensor\n",
      "Shape/size: torch.Size([2, 3])\n",
      "Values: \n",
      "tensor([[1., 2., 3.],\n",
      "        [4., 5., 6.]])\n"
     ]
    }
   ],
   "source": [
    "x = x.float()\n",
    "describe(x)"
   ]
  },
  {
   "cell_type": "markdown",
   "id": "8098cf1e",
   "metadata": {},
   "source": [
    "We use the shape property and size() method of a tensor object to access the measurements of its\n",
    "dimensions. The two ways of accessing these measurements are mostly synonymous. Inspecting the\n",
    "shape of the tensor is an indispensable tool in debugging PyTorch code."
   ]
  },
  {
   "cell_type": "markdown",
   "id": "cc656221",
   "metadata": {},
   "source": [
    "## Tensor Operations"
   ]
  },
  {
   "cell_type": "markdown",
   "id": "735b74ce",
   "metadata": {},
   "source": [
    "After you have created your tensors, you can operate on them like you would do with traditional\n",
    "programming language types, like +, -, *, /. Instead of the operators, you can also use functions like\n",
    ".add()."
   ]
  },
  {
   "cell_type": "code",
   "execution_count": 25,
   "id": "b07e9dce",
   "metadata": {},
   "outputs": [
    {
     "name": "stdout",
     "output_type": "stream",
     "text": [
      "Type: torch.FloatTensor\n",
      "Shape/size: torch.Size([2, 3])\n",
      "Values: \n",
      "tensor([[ 0.7024, -2.3272,  0.1419],\n",
      "        [ 0.1645, -0.6104,  1.0568]])\n"
     ]
    }
   ],
   "source": [
    "import torch\n",
    "x = torch.randn(2, 3)\n",
    "describe(x)"
   ]
  },
  {
   "cell_type": "code",
   "execution_count": 27,
   "id": "37a0b9d3",
   "metadata": {},
   "outputs": [
    {
     "name": "stdout",
     "output_type": "stream",
     "text": [
      "Type: torch.FloatTensor\n",
      "Shape/size: torch.Size([2, 3])\n",
      "Values: \n",
      "tensor([[ 1.4048, -4.6544,  0.2839],\n",
      "        [ 0.3291, -1.2209,  2.1137]])\n"
     ]
    }
   ],
   "source": [
    "describe(torch.add(x, x)) #x+x"
   ]
  },
  {
   "cell_type": "code",
   "execution_count": 28,
   "id": "054da92c",
   "metadata": {},
   "outputs": [
    {
     "name": "stdout",
     "output_type": "stream",
     "text": [
      "Type: torch.FloatTensor\n",
      "Shape/size: torch.Size([2, 3])\n",
      "Values: \n",
      "tensor([[ 1.4048, -4.6544,  0.2839],\n",
      "        [ 0.3291, -1.2209,  2.1137]])\n"
     ]
    }
   ],
   "source": [
    "describe(x + x)"
   ]
  },
  {
   "cell_type": "markdown",
   "id": "73242c30",
   "metadata": {},
   "source": [
    "There are also operations that you can apply to a specific dimension of a tensor. As you might have\n",
    "already noticed, for a 2D tensor we represent rows as the dimension 0 and columns as dimension 1."
   ]
  },
  {
   "cell_type": "code",
   "execution_count": 29,
   "id": "de020323",
   "metadata": {},
   "outputs": [
    {
     "name": "stdout",
     "output_type": "stream",
     "text": [
      "Type: torch.LongTensor\n",
      "Shape/size: torch.Size([6])\n",
      "Values: \n",
      "tensor([0, 1, 2, 3, 4, 5])\n"
     ]
    }
   ],
   "source": [
    "import torch\n",
    "x = torch.arange(6)\n",
    "describe(x)"
   ]
  },
  {
   "cell_type": "code",
   "execution_count": 30,
   "id": "391195b9",
   "metadata": {},
   "outputs": [
    {
     "name": "stdout",
     "output_type": "stream",
     "text": [
      "Type: torch.LongTensor\n",
      "Shape/size: torch.Size([2, 3])\n",
      "Values: \n",
      "tensor([[0, 1, 2],\n",
      "        [3, 4, 5]])\n"
     ]
    }
   ],
   "source": [
    "x = x.view(2, 3)\n",
    "describe(x)"
   ]
  },
  {
   "cell_type": "code",
   "execution_count": 32,
   "id": "7c7c6844",
   "metadata": {},
   "outputs": [
    {
     "name": "stdout",
     "output_type": "stream",
     "text": [
      "Type: torch.LongTensor\n",
      "Shape/size: torch.Size([3])\n",
      "Values: \n",
      "tensor([3, 5, 7])\n"
     ]
    }
   ],
   "source": [
    "describe(torch.sum(x, dim=0)) # column sum"
   ]
  },
  {
   "cell_type": "code",
   "execution_count": 33,
   "id": "578e1e73",
   "metadata": {},
   "outputs": [
    {
     "name": "stdout",
     "output_type": "stream",
     "text": [
      "Type: torch.LongTensor\n",
      "Shape/size: torch.Size([2])\n",
      "Values: \n",
      "tensor([ 3, 12])\n"
     ]
    }
   ],
   "source": [
    "describe(torch.sum(x, dim=1)) # row sum"
   ]
  },
  {
   "cell_type": "code",
   "execution_count": 34,
   "id": "05873721",
   "metadata": {},
   "outputs": [
    {
     "name": "stdout",
     "output_type": "stream",
     "text": [
      "Type: torch.LongTensor\n",
      "Shape/size: torch.Size([3, 2])\n",
      "Values: \n",
      "tensor([[0, 3],\n",
      "        [1, 4],\n",
      "        [2, 5]])\n"
     ]
    }
   ],
   "source": [
    "describe(torch.transpose(x, 0, 1))"
   ]
  },
  {
   "cell_type": "markdown",
   "id": "2b619e2a",
   "metadata": {},
   "source": [
    "Often, we need to do more complex operations that involve a combination of indexing, slicing,\n",
    "joining, and mutations. Like NumPy and other numeric libraries, PyTorch has built­in functions to\n",
    "make such tensor manipulations very simple."
   ]
  },
  {
   "cell_type": "markdown",
   "id": "4522459e",
   "metadata": {},
   "source": [
    "## Indexing, Slicing, and Joining"
   ]
  },
  {
   "cell_type": "code",
   "execution_count": 35,
   "id": "cff936ba",
   "metadata": {},
   "outputs": [
    {
     "name": "stdout",
     "output_type": "stream",
     "text": [
      "Type: torch.LongTensor\n",
      "Shape/size: torch.Size([2, 3])\n",
      "Values: \n",
      "tensor([[0, 1, 2],\n",
      "        [3, 4, 5]])\n"
     ]
    }
   ],
   "source": [
    "import torch\n",
    "x = torch.arange(6).view(2, 3)\n",
    "describe(x)"
   ]
  },
  {
   "cell_type": "code",
   "execution_count": 36,
   "id": "bb7da51b",
   "metadata": {},
   "outputs": [
    {
     "name": "stdout",
     "output_type": "stream",
     "text": [
      "Type: torch.LongTensor\n",
      "Shape/size: torch.Size([1, 2])\n",
      "Values: \n",
      "tensor([[0, 1]])\n"
     ]
    }
   ],
   "source": [
    "describe(x[:1, :2])"
   ]
  },
  {
   "cell_type": "code",
   "execution_count": 37,
   "id": "747c756d",
   "metadata": {},
   "outputs": [
    {
     "name": "stdout",
     "output_type": "stream",
     "text": [
      "Type: torch.LongTensor\n",
      "Shape/size: torch.Size([])\n",
      "Values: \n",
      "1\n"
     ]
    }
   ],
   "source": [
    "describe(x[0, 1])"
   ]
  },
  {
   "cell_type": "markdown",
   "id": "2c740218",
   "metadata": {},
   "source": [
    "**Complex indexing: noncontiguous indexing of a tensor**"
   ]
  },
  {
   "cell_type": "code",
   "execution_count": 38,
   "id": "35438720",
   "metadata": {},
   "outputs": [
    {
     "name": "stdout",
     "output_type": "stream",
     "text": [
      "Type: torch.LongTensor\n",
      "Shape/size: torch.Size([2, 2])\n",
      "Values: \n",
      "tensor([[0, 2],\n",
      "        [3, 5]])\n"
     ]
    }
   ],
   "source": [
    "indices = torch.LongTensor([0, 2])\n",
    "describe(torch.index_select(x, dim=1, index=indices))"
   ]
  },
  {
   "cell_type": "code",
   "execution_count": 39,
   "id": "00e4c75e",
   "metadata": {},
   "outputs": [
    {
     "data": {
      "text/plain": [
       "tensor([0, 2])"
      ]
     },
     "execution_count": 39,
     "metadata": {},
     "output_type": "execute_result"
    }
   ],
   "source": [
    "indices"
   ]
  },
  {
   "cell_type": "code",
   "execution_count": 40,
   "id": "c30d4d8c",
   "metadata": {},
   "outputs": [
    {
     "name": "stdout",
     "output_type": "stream",
     "text": [
      "Type: torch.LongTensor\n",
      "Shape/size: torch.Size([2, 3])\n",
      "Values: \n",
      "tensor([[0, 1, 2],\n",
      "        [0, 1, 2]])\n"
     ]
    }
   ],
   "source": [
    "indices = torch.LongTensor([0, 0])\n",
    "describe(torch.index_select(x, dim=0, index=indices))"
   ]
  },
  {
   "cell_type": "code",
   "execution_count": 41,
   "id": "fd4c70fd",
   "metadata": {},
   "outputs": [
    {
     "name": "stdout",
     "output_type": "stream",
     "text": [
      "Type: torch.LongTensor\n",
      "Shape/size: torch.Size([2])\n",
      "Values: \n",
      "tensor([0, 4])\n"
     ]
    }
   ],
   "source": [
    "row_indices = torch.arange(2).long()\n",
    "col_indices = torch.LongTensor([0, 1])\n",
    "describe(x[row_indices, col_indices])\n"
   ]
  },
  {
   "cell_type": "markdown",
   "id": "80ce99d8",
   "metadata": {},
   "source": [
    "Notice that the indices are a LongTensor; this is a requirement for indexing using PyTorch\n",
    "functions. We can also join tensors using built­in concatenation functions."
   ]
  },
  {
   "cell_type": "code",
   "execution_count": 42,
   "id": "0d4a8f7b",
   "metadata": {},
   "outputs": [
    {
     "name": "stdout",
     "output_type": "stream",
     "text": [
      "Type: torch.LongTensor\n",
      "Shape/size: torch.Size([2, 3])\n",
      "Values: \n",
      "tensor([[0, 1, 2],\n",
      "        [3, 4, 5]])\n"
     ]
    }
   ],
   "source": [
    "import torch\n",
    "x = torch.arange(6).view(2,3)\n",
    "describe(x)"
   ]
  },
  {
   "cell_type": "code",
   "execution_count": 43,
   "id": "57e626b4",
   "metadata": {},
   "outputs": [
    {
     "name": "stdout",
     "output_type": "stream",
     "text": [
      "Type: torch.LongTensor\n",
      "Shape/size: torch.Size([4, 3])\n",
      "Values: \n",
      "tensor([[0, 1, 2],\n",
      "        [3, 4, 5],\n",
      "        [0, 1, 2],\n",
      "        [3, 4, 5]])\n"
     ]
    }
   ],
   "source": [
    "describe(torch.cat([x, x], dim=0))"
   ]
  },
  {
   "cell_type": "code",
   "execution_count": 44,
   "id": "eaf32675",
   "metadata": {},
   "outputs": [
    {
     "name": "stdout",
     "output_type": "stream",
     "text": [
      "Type: torch.LongTensor\n",
      "Shape/size: torch.Size([2, 6])\n",
      "Values: \n",
      "tensor([[0, 1, 2, 0, 1, 2],\n",
      "        [3, 4, 5, 3, 4, 5]])\n"
     ]
    }
   ],
   "source": [
    "describe(torch.cat([x, x], dim=1))"
   ]
  },
  {
   "cell_type": "code",
   "execution_count": 45,
   "id": "1ff6ac01",
   "metadata": {},
   "outputs": [
    {
     "name": "stdout",
     "output_type": "stream",
     "text": [
      "Type: torch.LongTensor\n",
      "Shape/size: torch.Size([2, 2, 3])\n",
      "Values: \n",
      "tensor([[[0, 1, 2],\n",
      "         [3, 4, 5]],\n",
      "\n",
      "        [[0, 1, 2],\n",
      "         [3, 4, 5]]])\n"
     ]
    }
   ],
   "source": [
    "describe(torch.stack([x, x]))"
   ]
  },
  {
   "cell_type": "markdown",
   "id": "82f73b4e",
   "metadata": {},
   "source": [
    "PyTorch also implements highly efficient linear algebra operations on tensors, such as multiplication,\n",
    "inverse, and trace."
   ]
  },
  {
   "cell_type": "code",
   "execution_count": 46,
   "id": "3d5afc75",
   "metadata": {},
   "outputs": [
    {
     "name": "stdout",
     "output_type": "stream",
     "text": [
      "Type: torch.LongTensor\n",
      "Shape/size: torch.Size([2, 3])\n",
      "Values: \n",
      "tensor([[0, 1, 2],\n",
      "        [3, 4, 5]])\n"
     ]
    }
   ],
   "source": [
    "import torch\n",
    "x1 = torch.arange(6).view(2, 3)\n",
    "describe(x1)"
   ]
  },
  {
   "cell_type": "code",
   "execution_count": 49,
   "id": "482c99a6",
   "metadata": {},
   "outputs": [
    {
     "name": "stdout",
     "output_type": "stream",
     "text": [
      "Type: torch.FloatTensor\n",
      "Shape/size: torch.Size([3, 2])\n",
      "Values: \n",
      "tensor([[1., 1.],\n",
      "        [1., 1.],\n",
      "        [1., 1.]])\n",
      "Type: torch.FloatTensor\n",
      "Shape/size: torch.Size([3, 2])\n",
      "Values: \n",
      "tensor([[1., 2.],\n",
      "        [1., 2.],\n",
      "        [1., 2.]])\n"
     ]
    }
   ],
   "source": [
    "x2 = torch.ones(3, 2)\n",
    "describe(x2)\n",
    "x2[:, 1] += 1\n",
    "describe(x2)"
   ]
  },
  {
   "cell_type": "code",
   "execution_count": 51,
   "id": "d9d334ee",
   "metadata": {},
   "outputs": [
    {
     "name": "stdout",
     "output_type": "stream",
     "text": [
      "Type: torch.FloatTensor\n",
      "Shape/size: torch.Size([2, 2])\n",
      "Values: \n",
      "tensor([[ 3.,  6.],\n",
      "        [12., 24.]])\n"
     ]
    }
   ],
   "source": [
    "describe(torch.mm(x1.float(), x2)) #matrix multiplication of x1 and x2"
   ]
  },
  {
   "cell_type": "markdown",
   "id": "fb3a3d9f",
   "metadata": {},
   "source": [
    "So far, we have looked at ways to create and manipulate constant PyTorch tensor objects. Just as a\n",
    "programming language (such as Python) has variables that encapsulate a piece of data and has\n",
    "additional information about that data (like the memory address where it is stored, for example),\n",
    "PyTorch tensors handle the bookkeeping needed for building computational graphs for machine\n",
    "learning simply by enabling a Boolean flag at instantiation time."
   ]
  },
  {
   "cell_type": "markdown",
   "id": "0b62973a",
   "metadata": {},
   "source": [
    "## Tensors and Computational Graphs"
   ]
  },
  {
   "cell_type": "markdown",
   "id": "581cb637",
   "metadata": {},
   "source": [
    "PyTorch tensor class encapsulates the data (the tensor itself) and a range of operations, such as\n",
    "algebraic operations, indexing, and reshaping operations. However,when\n",
    "the requires_grad Boolean flag is set to True on a tensor, bookkeeping operations are enabled\n",
    "that can track the gradient at the tensor as well as the gradient function, both of which are needed to\n",
    "facilitate the gradient-based learning discussed in\n",
    "“The Supervised Learning Paradigm”"
   ]
  },
  {
   "cell_type": "code",
   "execution_count": 52,
   "id": "4a20443e",
   "metadata": {},
   "outputs": [
    {
     "name": "stdout",
     "output_type": "stream",
     "text": [
      "Type: torch.FloatTensor\n",
      "Shape/size: torch.Size([2, 2])\n",
      "Values: \n",
      "tensor([[1., 1.],\n",
      "        [1., 1.]], requires_grad=True)\n",
      "True\n"
     ]
    }
   ],
   "source": [
    "import torch\n",
    "x = torch.ones(2, 2, requires_grad=True)\n",
    "describe(x)\n",
    "print(x.grad is None)"
   ]
  },
  {
   "cell_type": "code",
   "execution_count": 53,
   "id": "efda624b",
   "metadata": {},
   "outputs": [
    {
     "name": "stdout",
     "output_type": "stream",
     "text": [
      "Type: torch.FloatTensor\n",
      "Shape/size: torch.Size([2, 2])\n",
      "Values: \n",
      "tensor([[21., 21.],\n",
      "        [21., 21.]], grad_fn=<AddBackward0>)\n",
      "True\n"
     ]
    }
   ],
   "source": [
    "y = (x + 2) * (x + 5) + 3\n",
    "describe(y)\n",
    "print(x.grad is None)"
   ]
  },
  {
   "cell_type": "code",
   "execution_count": 54,
   "id": "cbac75f4",
   "metadata": {},
   "outputs": [
    {
     "name": "stdout",
     "output_type": "stream",
     "text": [
      "Type: torch.FloatTensor\n",
      "Shape/size: torch.Size([])\n",
      "Values: \n",
      "21.0\n",
      "False\n"
     ]
    }
   ],
   "source": [
    "z = y.mean()\n",
    "describe(z)\n",
    "z.backward()\n",
    "print(x.grad is None)"
   ]
  },
  {
   "cell_type": "markdown",
   "id": "cf9e1f2b",
   "metadata": {},
   "source": [
    "When you create a tensor with requires_grad=True, you are requiring PyTorch to manage\n",
    "bookkeeping information that computes gradients. First, PyTorch will keep track of the values of the\n",
    "forward pass. Then, at the end of the computations, a single scalar is used to compute a backward pass.\n",
    "The backward pass is initiated by using the backward() method on a tensor resulting from the\n",
    "evaluation of a loss function. The backward pass computes a gradient value for a tensor object that\n",
    "participated in the forward pass.\n"
   ]
  },
  {
   "cell_type": "markdown",
   "id": "dfbcbce2",
   "metadata": {},
   "source": [
    "In general, the gradient is a value that represents the slope of a function output with respect to the\n",
    "function input. In the computational graph setting, gradients exist for each parameter in the model and\n",
    "can be thought of as the parameter’s contribution to the error signal. In PyTorch, you can access the\n",
    "gradients for the nodes in the computational graph by using the .grad member variable. Optimizers\n",
    "use the .grad variable to update the values of the parameters."
   ]
  },
  {
   "cell_type": "markdown",
   "id": "e675d14e",
   "metadata": {},
   "source": [
    "## CUDA Tensors"
   ]
  },
  {
   "cell_type": "markdown",
   "id": "2fbfc80c",
   "metadata": {},
   "source": [
    "So far, we have been allocating our tensors on the CPU memory. When doing linear algebra\n",
    "operations, it might make sense to utilize a GPU, if you have one. To use a GPU, you need to first\n",
    "allocate the tensor on the GPU’s memory. Access to the GPUs is via a specialized API called CUDA.\n",
    "The CUDA API was created by NVIDIA and is limited to use on only NVIDIA GPUs. PyTorch\n",
    "offers CUDA tensor objects that are indistinguishable in use from the regular CPU­bound tensors\n",
    "except for the way they are allocated internally."
   ]
  },
  {
   "cell_type": "markdown",
   "id": "1a166e40",
   "metadata": {},
   "source": [
    "PyTorch makes it very easy to create these CUDA tensors, transfering the tensor from the CPU to the\n",
    "GPU while maintaining its underlying type. The preferred method in PyTorch is to be device agnostic\n",
    "and write code that works whether it’s on the GPU or the CPU"
   ]
  },
  {
   "cell_type": "markdown",
   "id": "f9177346",
   "metadata": {},
   "source": [
    "we first check\n",
    "whether a GPU is available by using torch.cuda.is_available(), and retrieve the device\n",
    "name with torch.device(). Then, all future tensors are instantiated and moved to the target\n",
    "device by using the .to(device) method."
   ]
  },
  {
   "cell_type": "code",
   "execution_count": 55,
   "id": "d19cd962",
   "metadata": {},
   "outputs": [
    {
     "name": "stdout",
     "output_type": "stream",
     "text": [
      "False\n"
     ]
    }
   ],
   "source": [
    "import torch\n",
    "print (torch.cuda.is_available())"
   ]
  },
  {
   "cell_type": "code",
   "execution_count": 56,
   "id": "5928b480",
   "metadata": {},
   "outputs": [
    {
     "name": "stdout",
     "output_type": "stream",
     "text": [
      "cpu\n"
     ]
    }
   ],
   "source": [
    "# preferred method: device agnostic tensor instantiation\n",
    "device = torch.device(\"cuda\" if torch.cuda.is_available() else \"cpu\")\n",
    "print (device)"
   ]
  },
  {
   "cell_type": "code",
   "execution_count": 57,
   "id": "068c315c",
   "metadata": {},
   "outputs": [
    {
     "name": "stdout",
     "output_type": "stream",
     "text": [
      "Type: torch.FloatTensor\n",
      "Shape/size: torch.Size([3, 3])\n",
      "Values: \n",
      "tensor([[0.1846, 0.4903, 0.0993],\n",
      "        [0.0302, 0.7898, 0.6763],\n",
      "        [0.2201, 0.6394, 0.3110]])\n"
     ]
    }
   ],
   "source": [
    "x = torch.rand(3, 3).to(device)\n",
    "describe(x)"
   ]
  },
  {
   "cell_type": "markdown",
   "id": "e99d89f2",
   "metadata": {},
   "source": [
    "To operate on CUDA and non-CUDA objects, we need to ensure that they are on the same device. If\n",
    "we don’t, the computations will break."
   ]
  },
  {
   "cell_type": "markdown",
   "id": "696b5cce",
   "metadata": {},
   "source": [
    "This situation arises when\n",
    "computing monitoring metrics that aren’t part of the computational graph, for instance. When\n",
    "operating on two tensor objects, make sure they’re both on the same device"
   ]
  },
  {
   "cell_type": "markdown",
   "id": "db3634f3",
   "metadata": {},
   "source": [
    "**Mixing CUDA tensors with CPU-bound tensors**"
   ]
  },
  {
   "cell_type": "code",
   "execution_count": 59,
   "id": "2aef6cbc",
   "metadata": {},
   "outputs": [
    {
     "data": {
      "text/plain": [
       "tensor([[0.7084, 0.7086, 1.0880],\n",
       "        [0.6626, 1.0999, 0.9294],\n",
       "        [1.1733, 1.0440, 0.4679]])"
      ]
     },
     "execution_count": 59,
     "metadata": {},
     "output_type": "execute_result"
    }
   ],
   "source": [
    "y = torch.rand(3, 3)\n",
    "x + y # will give error if cuda is availabale"
   ]
  },
  {
   "cell_type": "code",
   "execution_count": 60,
   "id": "1a5dc11a",
   "metadata": {},
   "outputs": [
    {
     "data": {
      "text/plain": [
       "tensor([[0.7084, 0.7086, 1.0880],\n",
       "        [0.6626, 1.0999, 0.9294],\n",
       "        [1.1733, 1.0440, 0.4679]])"
      ]
     },
     "execution_count": 60,
     "metadata": {},
     "output_type": "execute_result"
    }
   ],
   "source": [
    "cpu_device = torch.device(\"cpu\")\n",
    "y = y.to(cpu_device)\n",
    "x = x.to(cpu_device)\n",
    "x + y"
   ]
  },
  {
   "cell_type": "markdown",
   "id": "72d16b62",
   "metadata": {},
   "source": [
    "Keep in mind that it is expensive to move data back and forth from the GPU. Therefore, the typical\n",
    "procedure involves doing many of the parallelizable computations on the GPU and then transferring\n",
    "just the final result back to the CPU. This will allow you to fully utilize the GPUs. If you have several\n",
    "CUDA­visible devices (i.e., multiple GPUs), the best practice is to use the\n",
    "CUDA_VISIBLE_DEVICES environment variable when executing the program, as shown here:"
   ]
  },
  {
   "cell_type": "code",
   "execution_count": 62,
   "id": "19b2fad6",
   "metadata": {},
   "outputs": [],
   "source": [
    "# CUDA_VISIBLE_DEVICES=0,1,2,3 python main.py"
   ]
  },
  {
   "cell_type": "markdown",
   "id": "0bb34ceb",
   "metadata": {},
   "source": [
    "We do not cover parallelism and multi­GPU training as a part of this book, but they are essential in\n",
    "scaling experiments and sometimes even to train large models. We recommend that you refer to the\n",
    "PyTorch documentation and discussion forums for additional help and support on this topic.\n"
   ]
  },
  {
   "cell_type": "code",
   "execution_count": null,
   "id": "a718fa5d",
   "metadata": {},
   "outputs": [],
   "source": []
  }
 ],
 "metadata": {
  "kernelspec": {
   "display_name": "Python 3 (ipykernel)",
   "language": "python",
   "name": "python3"
  },
  "language_info": {
   "codemirror_mode": {
    "name": "ipython",
    "version": 3
   },
   "file_extension": ".py",
   "mimetype": "text/x-python",
   "name": "python",
   "nbconvert_exporter": "python",
   "pygments_lexer": "ipython3",
   "version": "3.6.13"
  }
 },
 "nbformat": 4,
 "nbformat_minor": 5
}
